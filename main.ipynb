{
 "cells": [
  {
   "cell_type": "code",
   "execution_count": 1,
   "metadata": {},
   "outputs": [],
   "source": [
    "import cv2\n",
    "from PIL import Image\n",
    "import numpy as np\n",
    "import tensorflow as tf\n",
    "import serial\n",
    "import time\n",
    "import threading"
   ]
  },
  {
   "cell_type": "code",
   "execution_count": null,
   "metadata": {},
   "outputs": [],
   "source": [
    "# Among Us\n",
    "print(chr(sum(range(ord(min(str(not())))))))"
   ]
  },
  {
   "cell_type": "code",
   "execution_count": 3,
   "metadata": {},
   "outputs": [],
   "source": [
    "model_path = \"./converted_savedmodel/model.savedmodel\"\n",
    "label_path = \"./converted_savedmodel/labels.txt\""
   ]
  },
  {
   "cell_type": "code",
   "execution_count": 4,
   "metadata": {},
   "outputs": [],
   "source": [
    "model = tf.saved_model.load(model_path)\n",
    "with open(label_path, 'r') as f:\n",
    "  labels = f.read().splitlines()"
   ]
  },
  {
   "cell_type": "code",
   "execution_count": null,
   "metadata": {},
   "outputs": [],
   "source": [
    "first_key = lambda d: list(d.keys())[0]\n",
    "signature = model.signatures[\"serving_default\"]\n",
    "model_input = first_key(signature.structured_input_signature[1])\n",
    "model_output = first_key(signature.structured_outputs)\n",
    "print(\"Model Input:\", model_input)\n",
    "print(\"Model Output:\", model_output)"
   ]
  },
  {
   "cell_type": "code",
   "execution_count": 6,
   "metadata": {},
   "outputs": [],
   "source": [
    "import matplotlib.pyplot as plt"
   ]
  },
  {
   "cell_type": "code",
   "execution_count": 7,
   "metadata": {},
   "outputs": [],
   "source": [
    "def predict_image(frame):\n",
    "  img = Image.fromarray(frame)\n",
    "  left = (img.width - img.height) / 2\n",
    "  top = (img.height - img.height) / 2\n",
    "  right = (img.width + img.height) / 2\n",
    "  bottom = (img.height + img.height) / 2\n",
    "  img = img.crop((left, top, right, bottom)).resize((224, 224))\n",
    "  img_array = np.array(img) / 255.0\n",
    "  img_array = img_array[..., ::-1]\n",
    "  \n",
    "  plt.imshow(img_array)\n",
    "  plt.show()\n",
    "  \n",
    "  img_array = img_array.astype(np.float32)\n",
    "  img_array = np.expand_dims(img_array, axis=0)\n",
    "  try:\n",
    "    infer = model.signatures['serving_default']\n",
    "    predictions = infer(**{ model_input: tf.constant(img_array) })\n",
    "    predicted_scores = predictions[model_output].numpy()\n",
    "    print(predicted_scores)\n",
    "    return np.argmax(predicted_scores)\n",
    "  except Exception as e:\n",
    "    print(\"Exception: \", e)\n",
    "    return None"
   ]
  },
  {
   "cell_type": "code",
   "execution_count": 8,
   "metadata": {},
   "outputs": [],
   "source": [
    "class Camera:\n",
    "  def __init__(self, camera_id, window_name=\"Camera Feed\"):\n",
    "    self.camera_id = camera_id\n",
    "    self.window_name = window_name\n",
    "  \n",
    "  def start(self):\n",
    "    self.video_capture = cv2.VideoCapture(self.camera_id)\n",
    "    self.loop_enabled = True\n",
    "    self.loop_thread = threading.Thread(target=self.loop)\n",
    "    self.loop_thread.start()\n",
    "    \n",
    "  def loop(self):\n",
    "    while self.loop_enabled:\n",
    "      ret, frame = self.video_capture.read()\n",
    "      if not ret:\n",
    "        print(\"Failed to capture frame.\")\n",
    "      self.frame = frame\n",
    "      cv2.imshow(self.window_name, frame)\n",
    "      \n",
    "      if cv2.waitKey(1) & 0xFF == ord('q'):\n",
    "        self.stop()\n",
    "    self.video_capture.release()\n",
    "    cv2.destroyAllWindows()\n",
    "  \n",
    "  def stop(self):\n",
    "    self.loop_enabled = False\n",
    "  \n",
    "  def capture(self):\n",
    "    return self.frame\n"
   ]
  },
  {
   "cell_type": "code",
   "execution_count": 9,
   "metadata": {},
   "outputs": [],
   "source": [
    "opcode = {\n",
    "  \"pusher_push\":    0b01000000,\n",
    "  \"conveyor_off\":   0b01000010,\n",
    "  \"conveyor_on\":    0b01000011,\n",
    "  \"sorter_default\": 0b01100000,\n",
    "  \"sorter_label_0\": 0b01100000,\n",
    "  \"sorter_label_1\": 0b01100001,\n",
    "  \"sorter_label_2\": 0b01100010,\n",
    "  \"sorter_label_3\": 0b01100011,\n",
    "}"
   ]
  },
  {
   "cell_type": "code",
   "execution_count": 10,
   "metadata": {},
   "outputs": [],
   "source": [
    "class Conveyor:\n",
    "  def __init__(self, port_name, camera_id):\n",
    "    self.port_name = port_name\n",
    "    self.camera_id = camera_id\n",
    "    \n",
    "  def initialize(self):\n",
    "    self.serial_port = serial.Serial(self.port_name, 9600)\n",
    "    time.sleep(2)\n",
    "    \n",
    "    self.camera = Camera(self.camera_id)\n",
    "    self.camera.start()\n",
    "  \n",
    "  def execute_sequence(self):\n",
    "    try:\n",
    "      def send_command(cmd):\n",
    "        val = opcode[cmd]\n",
    "        byte = bytes([val])\n",
    "        self.serial_port.write(byte)\n",
    "        print(f\"Sent {hex(val)} ({cmd})\")\n",
    "      \n",
    "      send_command(\"pusher_push\")\n",
    "      time.sleep(self.pusher_activation_duration)\n",
    "      \n",
    "      send_command(\"conveyor_on\")\n",
    "      time.sleep(self.conveyor_to_camera_duration)\n",
    "      send_command(\"conveyor_off\")\n",
    "      \n",
    "      frame = self.camera.capture()\n",
    "      print(\"Captured\")\n",
    "      prediction = predict_image(frame)\n",
    "      print(f\"Prediction: #{prediction} ({labels[prediction]})\")\n",
    "      if   prediction == 0: send_command(\"sorter_label_0\")\n",
    "      elif prediction == 1: send_command(\"sorter_label_1\")\n",
    "      elif prediction == 2: send_command(\"sorter_label_2\")\n",
    "      elif prediction == 3: send_command(\"sorter_label_3\")\n",
    "      else: send_command(\"sorter_label_0\")\n",
    "      \n",
    "      send_command(\"conveyor_on\")\n",
    "      time.sleep(self.camera_to_sorter_duration)\n",
    "      send_command(\"conveyor_off\")\n",
    "    except Exception as e:\n",
    "      print(e)\n",
    "      self.stop()\n",
    "  \n",
    "  def stop(self):\n",
    "    self.camera.stop()\n",
    "    self.serial_port.close()"
   ]
  },
  {
   "cell_type": "code",
   "execution_count": null,
   "metadata": {},
   "outputs": [],
   "source": [
    "conveyor = Conveyor(\"COM3\", 0)\n",
    "conveyor.pusher_activation_duration = 1.6\n",
    "conveyor.conveyor_to_camera_duration = 1\n",
    "conveyor.camera_processing_delay = 0.2\n",
    "conveyor.camera_to_sorter_duration = 2\n",
    "\n",
    "conveyor.initialize()\n",
    "for i in range(4):\n",
    "  conveyor.execute_sequence()\n",
    "conveyor.stop()"
   ]
  }
 ],
 "metadata": {
  "kernelspec": {
   "display_name": "Python 3",
   "language": "python",
   "name": "python3"
  },
  "language_info": {
   "codemirror_mode": {
    "name": "ipython",
    "version": 3
   },
   "file_extension": ".py",
   "mimetype": "text/x-python",
   "name": "python",
   "nbconvert_exporter": "python",
   "pygments_lexer": "ipython3",
   "version": "3.12.4"
  }
 },
 "nbformat": 4,
 "nbformat_minor": 2
}
