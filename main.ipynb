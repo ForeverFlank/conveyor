{
 "cells": [
  {
   "cell_type": "code",
   "execution_count": 1,
   "metadata": {},
   "outputs": [],
   "source": [
    "import cv2\n",
    "from PIL import Image\n",
    "import numpy as np\n",
    "import tensorflow as tf\n",
    "import serial\n",
    "import time"
   ]
  },
  {
   "cell_type": "code",
   "execution_count": 2,
   "metadata": {},
   "outputs": [
    {
     "name": "stdout",
     "output_type": "stream",
     "text": [
      "ඞ\n"
     ]
    }
   ],
   "source": [
    "# Among Us\n",
    "print(chr(sum(range(ord(min(str(not())))))))"
   ]
  },
  {
   "cell_type": "code",
   "execution_count": 3,
   "metadata": {},
   "outputs": [],
   "source": [
    "model_path = \"./converted_savedmodel/model.savedmodel\"\n",
    "label_path = \"./converted_savedmodel/labels.txt\""
   ]
  },
  {
   "cell_type": "code",
   "execution_count": 4,
   "metadata": {},
   "outputs": [],
   "source": [
    "model = tf.saved_model.load(model_path)\n",
    "with open(label_path, 'r') as f:\n",
    "  labels = f.read().splitlines()"
   ]
  },
  {
   "cell_type": "code",
   "execution_count": 5,
   "metadata": {},
   "outputs": [
    {
     "name": "stdout",
     "output_type": "stream",
     "text": [
      "Model Inputs: ((), {'sequential_13_input': TensorSpec(shape=(None, 224, 224, 3), dtype=tf.float32, name='sequential_13_input')})\n",
      "Model Outputs: {'sequential_15': TensorSpec(shape=(None, 4), dtype=tf.float32, name='sequential_15')}\n"
     ]
    }
   ],
   "source": [
    "print(\"Model Inputs:\", model.signatures['serving_default'].structured_input_signature)\n",
    "print(\"Model Outputs:\", model.signatures['serving_default'].structured_outputs)"
   ]
  },
  {
   "cell_type": "code",
   "execution_count": 6,
   "metadata": {},
   "outputs": [],
   "source": [
    "def predict_picture(frame):\n",
    "  img = Image.fromarray(frame).resize((224, 224))\n",
    "  img_array = np.array(img) / 255.0\n",
    "  img_array = img_array.astype(np.float32)\n",
    "  img_array = np.expand_dims(img_array, axis=0)\n",
    "  try:\n",
    "    infer = model.signatures['serving_default']\n",
    "    predictions = infer(sequential_13_input=tf.constant(img_array))\n",
    "    predicted_scores = predictions['sequential_15'].numpy()\n",
    "    return np.argmax(predicted_scores)\n",
    "  except Exception as e:\n",
    "    print(\"Exception: \", e)\n",
    "    return None"
   ]
  },
  {
   "cell_type": "code",
   "execution_count": 14,
   "metadata": {},
   "outputs": [],
   "source": [
    "def send_serial(serial_port, num):\n",
    "  byte = f\"{num}\".encode()\n",
    "  serial_port.write(byte)\n",
    "  print(f\"Serial sent {byte}\")"
   ]
  },
  {
   "cell_type": "code",
   "execution_count": 8,
   "metadata": {},
   "outputs": [],
   "source": [
    "def capture_camera(camera_id, serial_port):\n",
    "  window_name = \"Camera Feed\"\n",
    "  \n",
    "  cap = cv2.VideoCapture(camera_id)\n",
    "\n",
    "  print(\"Press the space bar to capture an image. Press 'q' to exit.\")\n",
    "\n",
    "  while True:\n",
    "    ret, frame = cap.read()\n",
    "    if not ret:\n",
    "      print(\"Failed to capture frame.\")\n",
    "      break\n",
    "\n",
    "    cv2.imshow(window_name, frame)\n",
    "\n",
    "    key = cv2.waitKey(1) & 0xFF\n",
    "    \n",
    "    if key == ord(' '):\n",
    "      try:\n",
    "        prediction = predict_picture(frame)\n",
    "        label = labels[prediction]\n",
    "        print(f\"Predicted Label: #{prediction} ({label})\")\n",
    "        send_serial(serial_port, prediction);\n",
    "      except Exception as e:\n",
    "        print(e)\n",
    "    if key == ord('q'):\n",
    "      break\n",
    "    \n",
    "    # absolutely bongus window close detector\n",
    "    try:\n",
    "      cv2.getWindowProperty(window_name, 0)\n",
    "    except:\n",
    "      break\n",
    "\n",
    "  cap.release()\n",
    "  cv2.destroyAllWindows()\n",
    "\n"
   ]
  },
  {
   "cell_type": "code",
   "execution_count": 15,
   "metadata": {},
   "outputs": [
    {
     "name": "stdout",
     "output_type": "stream",
     "text": [
      "Serial initialized\n",
      "Waiting for serial (2 seconds) ...\n",
      "Serial should be ready\n",
      "Press the space bar to capture an image. Press 'q' to exit.\n",
      "Predicted Label: 0 (0 Yellow Circle)\n",
      "Serial sent b'0'\n",
      "Predicted Label: 0 (0 Yellow Circle)\n",
      "Serial sent b'0'\n",
      "Predicted Label: 2 (2 Yellow Square)\n",
      "Serial sent b'2'\n",
      "Predicted Label: 0 (0 Yellow Circle)\n",
      "Serial sent b'0'\n",
      "Predicted Label: 0 (0 Yellow Circle)\n",
      "Serial sent b'0'\n",
      "Predicted Label: 2 (2 Yellow Square)\n",
      "Serial sent b'2'\n",
      "Predicted Label: 2 (2 Yellow Square)\n",
      "Serial sent b'2'\n",
      "Predicted Label: 2 (2 Yellow Square)\n",
      "Serial sent b'2'\n",
      "Predicted Label: 2 (2 Yellow Square)\n",
      "Serial sent b'2'\n",
      "Predicted Label: 0 (0 Yellow Circle)\n",
      "Serial sent b'0'\n",
      "Quit\n",
      "Serial closed\n"
     ]
    }
   ],
   "source": [
    "camera_id = 0\n",
    "serial_port = \"COM3\"\n",
    "serial_port = serial.Serial(serial_port, 9600)\n",
    "print(\"Serial initialized\")\n",
    "\n",
    "print(\"Waiting for serial (2 seconds) ...\")\n",
    "time.sleep(2)\n",
    "print(\"Serial should be ready\")\n",
    "\n",
    "capture_camera(camera_id, serial_port)\n",
    "print(\"Quit\")\n",
    "\n",
    "serial_port.close()\n",
    "print(\"Serial closed\")"
   ]
  }
 ],
 "metadata": {
  "kernelspec": {
   "display_name": "Python 3",
   "language": "python",
   "name": "python3"
  },
  "language_info": {
   "codemirror_mode": {
    "name": "ipython",
    "version": 3
   },
   "file_extension": ".py",
   "mimetype": "text/x-python",
   "name": "python",
   "nbconvert_exporter": "python",
   "pygments_lexer": "ipython3",
   "version": "3.12.4"
  }
 },
 "nbformat": 4,
 "nbformat_minor": 2
}
